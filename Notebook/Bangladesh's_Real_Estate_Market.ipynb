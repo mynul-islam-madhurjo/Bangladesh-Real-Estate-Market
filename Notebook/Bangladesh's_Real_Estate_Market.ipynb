{
 "nbformat": 4,
 "nbformat_minor": 0,
 "metadata": {
  "colab": {
   "provenance": []
  },
  "kernelspec": {
   "name": "python3",
   "display_name": "Python 3"
  },
  "language_info": {
   "name": "python"
  }
 },
 "cells": [
  {
   "cell_type": "code",
   "execution_count": 1,
   "metadata": {
    "id": "k_sAVZ1T-kKq"
   },
   "outputs": [],
   "source": [
    "import numpy as np\n",
    "import pandas as pd\n",
    "import matplotlib.pyplot as plt\n",
    "import seaborn as sns"
   ]
  },
  {
   "cell_type": "code",
   "source": [
    "data = pd.read_csv('/content/property_details_11_24_2023.csv', error_bad_lines=False)"
   ],
   "metadata": {
    "colab": {
     "base_uri": "https://localhost:8080/"
    },
    "id": "Zzic5v_g_Bro",
    "outputId": "b6cb7e94-ef05-4d58-8d08-572e08260ac1"
   },
   "execution_count": 28,
   "outputs": [
    {
     "output_type": "stream",
     "name": "stderr",
     "text": [
      "<ipython-input-28-fe4af678e878>:1: FutureWarning: The error_bad_lines argument has been deprecated and will be removed in a future version. Use on_bad_lines in the future.\n",
      "\n",
      "\n",
      "  data = pd.read_csv('/content/property_details_11_24_2023.csv', error_bad_lines=False)\n"
     ]
    }
   ]
  },
  {
   "cell_type": "code",
   "source": [
    "data.head()"
   ],
   "metadata": {
    "colab": {
     "base_uri": "https://localhost:8080/",
     "height": 206
    },
    "id": "XoGZtUCK_Jis",
    "outputId": "053d4f9d-d985-4e17-99af-676cc91c6349"
   },
   "execution_count": 3,
   "outputs": [
    {
     "output_type": "execute_result",
     "data": {
      "text/plain": [
       "                                                Name             City  \\\n",
       "0  In South Banasree Project A Standard 2200 Squa...         Banasree   \n",
       "1  Remarkable Flat Of 1600 Sq Ft Is Up For Rent I...      Mohammadpur   \n",
       "2  Nice 1300 Sq. Ft. Flat Is Available To Rent In...  Bashundhara R-A   \n",
       "3  Well-constructed And Nicely Planned Flat Of 12...      Mohammadpur   \n",
       "4  1500 SQ FT flat is now Vacant to rent in South...          Khulshi   \n",
       "\n",
       "       Region Property Type Size(sqft)  Bedrooms  Bathrooms    Price  \\\n",
       "0       Dhaka     Apartment      2,200       4.0        3.0  31000.0   \n",
       "1       Dhaka     Apartment      1,600       3.0        3.0  16000.0   \n",
       "2       Dhaka     Apartment      1,300       3.0        3.0  40000.0   \n",
       "3       Dhaka     Apartment      1,250       3.0        3.0  19000.0   \n",
       "4  Chattogram     Apartment      1,500       3.0        3.0  30000.0   \n",
       "\n",
       "                                           Image URL  \n",
       "0  https://images-cdn.bproperty.com/thumbnails/14...  \n",
       "1  https://images-cdn.bproperty.com/thumbnails/15...  \n",
       "2  https://images-cdn.bproperty.com/thumbnails/13...  \n",
       "3  https://images-cdn.bproperty.com/thumbnails/11...  \n",
       "4  https://images-cdn.bproperty.com/thumbnails/85...  "
      ],
      "text/html": [
       "\n",
       "  <div id=\"df-912bd25e-055a-4bac-869d-1b09926cd599\" class=\"colab-df-container\">\n",
       "    <div>\n",
       "<style scoped>\n",
       "    .dataframe tbody tr th:only-of-type {\n",
       "        vertical-align: middle;\n",
       "    }\n",
       "\n",
       "    .dataframe tbody tr th {\n",
       "        vertical-align: top;\n",
       "    }\n",
       "\n",
       "    .dataframe thead th {\n",
       "        text-align: right;\n",
       "    }\n",
       "</style>\n",
       "<table border=\"1\" class=\"dataframe\">\n",
       "  <thead>\n",
       "    <tr style=\"text-align: right;\">\n",
       "      <th></th>\n",
       "      <th>Name</th>\n",
       "      <th>City</th>\n",
       "      <th>Region</th>\n",
       "      <th>Property Type</th>\n",
       "      <th>Size(sqft)</th>\n",
       "      <th>Bedrooms</th>\n",
       "      <th>Bathrooms</th>\n",
       "      <th>Price</th>\n",
       "      <th>Image URL</th>\n",
       "    </tr>\n",
       "  </thead>\n",
       "  <tbody>\n",
       "    <tr>\n",
       "      <th>0</th>\n",
       "      <td>In South Banasree Project A Standard 2200 Squa...</td>\n",
       "      <td>Banasree</td>\n",
       "      <td>Dhaka</td>\n",
       "      <td>Apartment</td>\n",
       "      <td>2,200</td>\n",
       "      <td>4.0</td>\n",
       "      <td>3.0</td>\n",
       "      <td>31000.0</td>\n",
       "      <td>https://images-cdn.bproperty.com/thumbnails/14...</td>\n",
       "    </tr>\n",
       "    <tr>\n",
       "      <th>1</th>\n",
       "      <td>Remarkable Flat Of 1600 Sq Ft Is Up For Rent I...</td>\n",
       "      <td>Mohammadpur</td>\n",
       "      <td>Dhaka</td>\n",
       "      <td>Apartment</td>\n",
       "      <td>1,600</td>\n",
       "      <td>3.0</td>\n",
       "      <td>3.0</td>\n",
       "      <td>16000.0</td>\n",
       "      <td>https://images-cdn.bproperty.com/thumbnails/15...</td>\n",
       "    </tr>\n",
       "    <tr>\n",
       "      <th>2</th>\n",
       "      <td>Nice 1300 Sq. Ft. Flat Is Available To Rent In...</td>\n",
       "      <td>Bashundhara R-A</td>\n",
       "      <td>Dhaka</td>\n",
       "      <td>Apartment</td>\n",
       "      <td>1,300</td>\n",
       "      <td>3.0</td>\n",
       "      <td>3.0</td>\n",
       "      <td>40000.0</td>\n",
       "      <td>https://images-cdn.bproperty.com/thumbnails/13...</td>\n",
       "    </tr>\n",
       "    <tr>\n",
       "      <th>3</th>\n",
       "      <td>Well-constructed And Nicely Planned Flat Of 12...</td>\n",
       "      <td>Mohammadpur</td>\n",
       "      <td>Dhaka</td>\n",
       "      <td>Apartment</td>\n",
       "      <td>1,250</td>\n",
       "      <td>3.0</td>\n",
       "      <td>3.0</td>\n",
       "      <td>19000.0</td>\n",
       "      <td>https://images-cdn.bproperty.com/thumbnails/11...</td>\n",
       "    </tr>\n",
       "    <tr>\n",
       "      <th>4</th>\n",
       "      <td>1500 SQ FT flat is now Vacant to rent in South...</td>\n",
       "      <td>Khulshi</td>\n",
       "      <td>Chattogram</td>\n",
       "      <td>Apartment</td>\n",
       "      <td>1,500</td>\n",
       "      <td>3.0</td>\n",
       "      <td>3.0</td>\n",
       "      <td>30000.0</td>\n",
       "      <td>https://images-cdn.bproperty.com/thumbnails/85...</td>\n",
       "    </tr>\n",
       "  </tbody>\n",
       "</table>\n",
       "</div>\n",
       "    <div class=\"colab-df-buttons\">\n",
       "\n",
       "  <div class=\"colab-df-container\">\n",
       "    <button class=\"colab-df-convert\" onclick=\"convertToInteractive('df-912bd25e-055a-4bac-869d-1b09926cd599')\"\n",
       "            title=\"Convert this dataframe to an interactive table.\"\n",
       "            style=\"display:none;\">\n",
       "\n",
       "  <svg xmlns=\"http://www.w3.org/2000/svg\" height=\"24px\" viewBox=\"0 -960 960 960\">\n",
       "    <path d=\"M120-120v-720h720v720H120Zm60-500h600v-160H180v160Zm220 220h160v-160H400v160Zm0 220h160v-160H400v160ZM180-400h160v-160H180v160Zm440 0h160v-160H620v160ZM180-180h160v-160H180v160Zm440 0h160v-160H620v160Z\"/>\n",
       "  </svg>\n",
       "    </button>\n",
       "\n",
       "  <style>\n",
       "    .colab-df-container {\n",
       "      display:flex;\n",
       "      gap: 12px;\n",
       "    }\n",
       "\n",
       "    .colab-df-convert {\n",
       "      background-color: #E8F0FE;\n",
       "      border: none;\n",
       "      border-radius: 50%;\n",
       "      cursor: pointer;\n",
       "      display: none;\n",
       "      fill: #1967D2;\n",
       "      height: 32px;\n",
       "      padding: 0 0 0 0;\n",
       "      width: 32px;\n",
       "    }\n",
       "\n",
       "    .colab-df-convert:hover {\n",
       "      background-color: #E2EBFA;\n",
       "      box-shadow: 0px 1px 2px rgba(60, 64, 67, 0.3), 0px 1px 3px 1px rgba(60, 64, 67, 0.15);\n",
       "      fill: #174EA6;\n",
       "    }\n",
       "\n",
       "    .colab-df-buttons div {\n",
       "      margin-bottom: 4px;\n",
       "    }\n",
       "\n",
       "    [theme=dark] .colab-df-convert {\n",
       "      background-color: #3B4455;\n",
       "      fill: #D2E3FC;\n",
       "    }\n",
       "\n",
       "    [theme=dark] .colab-df-convert:hover {\n",
       "      background-color: #434B5C;\n",
       "      box-shadow: 0px 1px 3px 1px rgba(0, 0, 0, 0.15);\n",
       "      filter: drop-shadow(0px 1px 2px rgba(0, 0, 0, 0.3));\n",
       "      fill: #FFFFFF;\n",
       "    }\n",
       "  </style>\n",
       "\n",
       "    <script>\n",
       "      const buttonEl =\n",
       "        document.querySelector('#df-912bd25e-055a-4bac-869d-1b09926cd599 button.colab-df-convert');\n",
       "      buttonEl.style.display =\n",
       "        google.colab.kernel.accessAllowed ? 'block' : 'none';\n",
       "\n",
       "      async function convertToInteractive(key) {\n",
       "        const element = document.querySelector('#df-912bd25e-055a-4bac-869d-1b09926cd599');\n",
       "        const dataTable =\n",
       "          await google.colab.kernel.invokeFunction('convertToInteractive',\n",
       "                                                    [key], {});\n",
       "        if (!dataTable) return;\n",
       "\n",
       "        const docLinkHtml = 'Like what you see? Visit the ' +\n",
       "          '<a target=\"_blank\" href=https://colab.research.google.com/notebooks/data_table.ipynb>data table notebook</a>'\n",
       "          + ' to learn more about interactive tables.';\n",
       "        element.innerHTML = '';\n",
       "        dataTable['output_type'] = 'display_data';\n",
       "        await google.colab.output.renderOutput(dataTable, element);\n",
       "        const docLink = document.createElement('div');\n",
       "        docLink.innerHTML = docLinkHtml;\n",
       "        element.appendChild(docLink);\n",
       "      }\n",
       "    </script>\n",
       "  </div>\n",
       "\n",
       "\n",
       "<div id=\"df-49f29b3a-d1da-4227-a53e-ec8b235ccc68\">\n",
       "  <button class=\"colab-df-quickchart\" onclick=\"quickchart('df-49f29b3a-d1da-4227-a53e-ec8b235ccc68')\"\n",
       "            title=\"Suggest charts\"\n",
       "            style=\"display:none;\">\n",
       "\n",
       "<svg xmlns=\"http://www.w3.org/2000/svg\" height=\"24px\"viewBox=\"0 0 24 24\"\n",
       "     width=\"24px\">\n",
       "    <g>\n",
       "        <path d=\"M19 3H5c-1.1 0-2 .9-2 2v14c0 1.1.9 2 2 2h14c1.1 0 2-.9 2-2V5c0-1.1-.9-2-2-2zM9 17H7v-7h2v7zm4 0h-2V7h2v10zm4 0h-2v-4h2v4z\"/>\n",
       "    </g>\n",
       "</svg>\n",
       "  </button>\n",
       "\n",
       "<style>\n",
       "  .colab-df-quickchart {\n",
       "      --bg-color: #E8F0FE;\n",
       "      --fill-color: #1967D2;\n",
       "      --hover-bg-color: #E2EBFA;\n",
       "      --hover-fill-color: #174EA6;\n",
       "      --disabled-fill-color: #AAA;\n",
       "      --disabled-bg-color: #DDD;\n",
       "  }\n",
       "\n",
       "  [theme=dark] .colab-df-quickchart {\n",
       "      --bg-color: #3B4455;\n",
       "      --fill-color: #D2E3FC;\n",
       "      --hover-bg-color: #434B5C;\n",
       "      --hover-fill-color: #FFFFFF;\n",
       "      --disabled-bg-color: #3B4455;\n",
       "      --disabled-fill-color: #666;\n",
       "  }\n",
       "\n",
       "  .colab-df-quickchart {\n",
       "    background-color: var(--bg-color);\n",
       "    border: none;\n",
       "    border-radius: 50%;\n",
       "    cursor: pointer;\n",
       "    display: none;\n",
       "    fill: var(--fill-color);\n",
       "    height: 32px;\n",
       "    padding: 0;\n",
       "    width: 32px;\n",
       "  }\n",
       "\n",
       "  .colab-df-quickchart:hover {\n",
       "    background-color: var(--hover-bg-color);\n",
       "    box-shadow: 0 1px 2px rgba(60, 64, 67, 0.3), 0 1px 3px 1px rgba(60, 64, 67, 0.15);\n",
       "    fill: var(--button-hover-fill-color);\n",
       "  }\n",
       "\n",
       "  .colab-df-quickchart-complete:disabled,\n",
       "  .colab-df-quickchart-complete:disabled:hover {\n",
       "    background-color: var(--disabled-bg-color);\n",
       "    fill: var(--disabled-fill-color);\n",
       "    box-shadow: none;\n",
       "  }\n",
       "\n",
       "  .colab-df-spinner {\n",
       "    border: 2px solid var(--fill-color);\n",
       "    border-color: transparent;\n",
       "    border-bottom-color: var(--fill-color);\n",
       "    animation:\n",
       "      spin 1s steps(1) infinite;\n",
       "  }\n",
       "\n",
       "  @keyframes spin {\n",
       "    0% {\n",
       "      border-color: transparent;\n",
       "      border-bottom-color: var(--fill-color);\n",
       "      border-left-color: var(--fill-color);\n",
       "    }\n",
       "    20% {\n",
       "      border-color: transparent;\n",
       "      border-left-color: var(--fill-color);\n",
       "      border-top-color: var(--fill-color);\n",
       "    }\n",
       "    30% {\n",
       "      border-color: transparent;\n",
       "      border-left-color: var(--fill-color);\n",
       "      border-top-color: var(--fill-color);\n",
       "      border-right-color: var(--fill-color);\n",
       "    }\n",
       "    40% {\n",
       "      border-color: transparent;\n",
       "      border-right-color: var(--fill-color);\n",
       "      border-top-color: var(--fill-color);\n",
       "    }\n",
       "    60% {\n",
       "      border-color: transparent;\n",
       "      border-right-color: var(--fill-color);\n",
       "    }\n",
       "    80% {\n",
       "      border-color: transparent;\n",
       "      border-right-color: var(--fill-color);\n",
       "      border-bottom-color: var(--fill-color);\n",
       "    }\n",
       "    90% {\n",
       "      border-color: transparent;\n",
       "      border-bottom-color: var(--fill-color);\n",
       "    }\n",
       "  }\n",
       "</style>\n",
       "\n",
       "  <script>\n",
       "    async function quickchart(key) {\n",
       "      const quickchartButtonEl =\n",
       "        document.querySelector('#' + key + ' button');\n",
       "      quickchartButtonEl.disabled = true;  // To prevent multiple clicks.\n",
       "      quickchartButtonEl.classList.add('colab-df-spinner');\n",
       "      try {\n",
       "        const charts = await google.colab.kernel.invokeFunction(\n",
       "            'suggestCharts', [key], {});\n",
       "      } catch (error) {\n",
       "        console.error('Error during call to suggestCharts:', error);\n",
       "      }\n",
       "      quickchartButtonEl.classList.remove('colab-df-spinner');\n",
       "      quickchartButtonEl.classList.add('colab-df-quickchart-complete');\n",
       "    }\n",
       "    (() => {\n",
       "      let quickchartButtonEl =\n",
       "        document.querySelector('#df-49f29b3a-d1da-4227-a53e-ec8b235ccc68 button');\n",
       "      quickchartButtonEl.style.display =\n",
       "        google.colab.kernel.accessAllowed ? 'block' : 'none';\n",
       "    })();\n",
       "  </script>\n",
       "</div>\n",
       "    </div>\n",
       "  </div>\n"
      ]
     },
     "metadata": {},
     "execution_count": 3
    }
   ]
  },
  {
   "cell_type": "code",
   "source": [
    "data.columns"
   ],
   "metadata": {
    "colab": {
     "base_uri": "https://localhost:8080/"
    },
    "id": "1HMCp9_b_3rQ",
    "outputId": "28d38918-1a14-4459-c717-8d51d91e4a54"
   },
   "execution_count": 4,
   "outputs": [
    {
     "output_type": "execute_result",
     "data": {
      "text/plain": [
       "Index(['Name', 'City', 'Region', 'Property Type', 'Size(sqft)', 'Bedrooms',\n",
       "       'Bathrooms', 'Price', 'Image URL'],\n",
       "      dtype='object')"
      ]
     },
     "metadata": {},
     "execution_count": 4
    }
   ]
  },
  {
   "cell_type": "markdown",
   "source": [
    "# Dropping the unnecessary columns\n"
   ],
   "metadata": {
    "id": "WlW15reCAGM4"
   }
  },
  {
   "cell_type": "code",
   "source": [
    "data.drop([\"Image URL\"],axis = 1, inplace = True)\n",
    "data.head(5)"
   ],
   "metadata": {
    "colab": {
     "base_uri": "https://localhost:8080/",
     "height": 206
    },
    "id": "uzLF5gfgAA_t",
    "outputId": "48b1ee50-9363-4b0c-a843-1ed1a405cbf8"
   },
   "execution_count": 29,
   "outputs": [
    {
     "output_type": "execute_result",
     "data": {
      "text/plain": [
       "                                                Name             City  \\\n",
       "0  In South Banasree Project A Standard 2200 Squa...         Banasree   \n",
       "1  Remarkable Flat Of 1600 Sq Ft Is Up For Rent I...      Mohammadpur   \n",
       "2  Nice 1300 Sq. Ft. Flat Is Available To Rent In...  Bashundhara R-A   \n",
       "3  Well-constructed And Nicely Planned Flat Of 12...      Mohammadpur   \n",
       "4  1500 SQ FT flat is now Vacant to rent in South...          Khulshi   \n",
       "\n",
       "       Region Property Type Size(sqft)  Bedrooms  Bathrooms  Price  \n",
       "0       Dhaka     Apartment      2,200         4          3  31000  \n",
       "1       Dhaka     Apartment      1,600         3          3  16000  \n",
       "2       Dhaka     Apartment      1,300         3          3  40000  \n",
       "3       Dhaka     Apartment      1,250         3          3  19000  \n",
       "4  Chattogram     Apartment      1,500         3          3  30000  "
      ],
      "text/html": [
       "\n",
       "  <div id=\"df-d5ac300e-6afc-4bc9-8b30-4e26a0a3b5d6\" class=\"colab-df-container\">\n",
       "    <div>\n",
       "<style scoped>\n",
       "    .dataframe tbody tr th:only-of-type {\n",
       "        vertical-align: middle;\n",
       "    }\n",
       "\n",
       "    .dataframe tbody tr th {\n",
       "        vertical-align: top;\n",
       "    }\n",
       "\n",
       "    .dataframe thead th {\n",
       "        text-align: right;\n",
       "    }\n",
       "</style>\n",
       "<table border=\"1\" class=\"dataframe\">\n",
       "  <thead>\n",
       "    <tr style=\"text-align: right;\">\n",
       "      <th></th>\n",
       "      <th>Name</th>\n",
       "      <th>City</th>\n",
       "      <th>Region</th>\n",
       "      <th>Property Type</th>\n",
       "      <th>Size(sqft)</th>\n",
       "      <th>Bedrooms</th>\n",
       "      <th>Bathrooms</th>\n",
       "      <th>Price</th>\n",
       "    </tr>\n",
       "  </thead>\n",
       "  <tbody>\n",
       "    <tr>\n",
       "      <th>0</th>\n",
       "      <td>In South Banasree Project A Standard 2200 Squa...</td>\n",
       "      <td>Banasree</td>\n",
       "      <td>Dhaka</td>\n",
       "      <td>Apartment</td>\n",
       "      <td>2,200</td>\n",
       "      <td>4</td>\n",
       "      <td>3</td>\n",
       "      <td>31000</td>\n",
       "    </tr>\n",
       "    <tr>\n",
       "      <th>1</th>\n",
       "      <td>Remarkable Flat Of 1600 Sq Ft Is Up For Rent I...</td>\n",
       "      <td>Mohammadpur</td>\n",
       "      <td>Dhaka</td>\n",
       "      <td>Apartment</td>\n",
       "      <td>1,600</td>\n",
       "      <td>3</td>\n",
       "      <td>3</td>\n",
       "      <td>16000</td>\n",
       "    </tr>\n",
       "    <tr>\n",
       "      <th>2</th>\n",
       "      <td>Nice 1300 Sq. Ft. Flat Is Available To Rent In...</td>\n",
       "      <td>Bashundhara R-A</td>\n",
       "      <td>Dhaka</td>\n",
       "      <td>Apartment</td>\n",
       "      <td>1,300</td>\n",
       "      <td>3</td>\n",
       "      <td>3</td>\n",
       "      <td>40000</td>\n",
       "    </tr>\n",
       "    <tr>\n",
       "      <th>3</th>\n",
       "      <td>Well-constructed And Nicely Planned Flat Of 12...</td>\n",
       "      <td>Mohammadpur</td>\n",
       "      <td>Dhaka</td>\n",
       "      <td>Apartment</td>\n",
       "      <td>1,250</td>\n",
       "      <td>3</td>\n",
       "      <td>3</td>\n",
       "      <td>19000</td>\n",
       "    </tr>\n",
       "    <tr>\n",
       "      <th>4</th>\n",
       "      <td>1500 SQ FT flat is now Vacant to rent in South...</td>\n",
       "      <td>Khulshi</td>\n",
       "      <td>Chattogram</td>\n",
       "      <td>Apartment</td>\n",
       "      <td>1,500</td>\n",
       "      <td>3</td>\n",
       "      <td>3</td>\n",
       "      <td>30000</td>\n",
       "    </tr>\n",
       "  </tbody>\n",
       "</table>\n",
       "</div>\n",
       "    <div class=\"colab-df-buttons\">\n",
       "\n",
       "  <div class=\"colab-df-container\">\n",
       "    <button class=\"colab-df-convert\" onclick=\"convertToInteractive('df-d5ac300e-6afc-4bc9-8b30-4e26a0a3b5d6')\"\n",
       "            title=\"Convert this dataframe to an interactive table.\"\n",
       "            style=\"display:none;\">\n",
       "\n",
       "  <svg xmlns=\"http://www.w3.org/2000/svg\" height=\"24px\" viewBox=\"0 -960 960 960\">\n",
       "    <path d=\"M120-120v-720h720v720H120Zm60-500h600v-160H180v160Zm220 220h160v-160H400v160Zm0 220h160v-160H400v160ZM180-400h160v-160H180v160Zm440 0h160v-160H620v160ZM180-180h160v-160H180v160Zm440 0h160v-160H620v160Z\"/>\n",
       "  </svg>\n",
       "    </button>\n",
       "\n",
       "  <style>\n",
       "    .colab-df-container {\n",
       "      display:flex;\n",
       "      gap: 12px;\n",
       "    }\n",
       "\n",
       "    .colab-df-convert {\n",
       "      background-color: #E8F0FE;\n",
       "      border: none;\n",
       "      border-radius: 50%;\n",
       "      cursor: pointer;\n",
       "      display: none;\n",
       "      fill: #1967D2;\n",
       "      height: 32px;\n",
       "      padding: 0 0 0 0;\n",
       "      width: 32px;\n",
       "    }\n",
       "\n",
       "    .colab-df-convert:hover {\n",
       "      background-color: #E2EBFA;\n",
       "      box-shadow: 0px 1px 2px rgba(60, 64, 67, 0.3), 0px 1px 3px 1px rgba(60, 64, 67, 0.15);\n",
       "      fill: #174EA6;\n",
       "    }\n",
       "\n",
       "    .colab-df-buttons div {\n",
       "      margin-bottom: 4px;\n",
       "    }\n",
       "\n",
       "    [theme=dark] .colab-df-convert {\n",
       "      background-color: #3B4455;\n",
       "      fill: #D2E3FC;\n",
       "    }\n",
       "\n",
       "    [theme=dark] .colab-df-convert:hover {\n",
       "      background-color: #434B5C;\n",
       "      box-shadow: 0px 1px 3px 1px rgba(0, 0, 0, 0.15);\n",
       "      filter: drop-shadow(0px 1px 2px rgba(0, 0, 0, 0.3));\n",
       "      fill: #FFFFFF;\n",
       "    }\n",
       "  </style>\n",
       "\n",
       "    <script>\n",
       "      const buttonEl =\n",
       "        document.querySelector('#df-d5ac300e-6afc-4bc9-8b30-4e26a0a3b5d6 button.colab-df-convert');\n",
       "      buttonEl.style.display =\n",
       "        google.colab.kernel.accessAllowed ? 'block' : 'none';\n",
       "\n",
       "      async function convertToInteractive(key) {\n",
       "        const element = document.querySelector('#df-d5ac300e-6afc-4bc9-8b30-4e26a0a3b5d6');\n",
       "        const dataTable =\n",
       "          await google.colab.kernel.invokeFunction('convertToInteractive',\n",
       "                                                    [key], {});\n",
       "        if (!dataTable) return;\n",
       "\n",
       "        const docLinkHtml = 'Like what you see? Visit the ' +\n",
       "          '<a target=\"_blank\" href=https://colab.research.google.com/notebooks/data_table.ipynb>data table notebook</a>'\n",
       "          + ' to learn more about interactive tables.';\n",
       "        element.innerHTML = '';\n",
       "        dataTable['output_type'] = 'display_data';\n",
       "        await google.colab.output.renderOutput(dataTable, element);\n",
       "        const docLink = document.createElement('div');\n",
       "        docLink.innerHTML = docLinkHtml;\n",
       "        element.appendChild(docLink);\n",
       "      }\n",
       "    </script>\n",
       "  </div>\n",
       "\n",
       "\n",
       "<div id=\"df-1bbf51c2-9a56-4d63-adc8-9e1093def074\">\n",
       "  <button class=\"colab-df-quickchart\" onclick=\"quickchart('df-1bbf51c2-9a56-4d63-adc8-9e1093def074')\"\n",
       "            title=\"Suggest charts\"\n",
       "            style=\"display:none;\">\n",
       "\n",
       "<svg xmlns=\"http://www.w3.org/2000/svg\" height=\"24px\"viewBox=\"0 0 24 24\"\n",
       "     width=\"24px\">\n",
       "    <g>\n",
       "        <path d=\"M19 3H5c-1.1 0-2 .9-2 2v14c0 1.1.9 2 2 2h14c1.1 0 2-.9 2-2V5c0-1.1-.9-2-2-2zM9 17H7v-7h2v7zm4 0h-2V7h2v10zm4 0h-2v-4h2v4z\"/>\n",
       "    </g>\n",
       "</svg>\n",
       "  </button>\n",
       "\n",
       "<style>\n",
       "  .colab-df-quickchart {\n",
       "      --bg-color: #E8F0FE;\n",
       "      --fill-color: #1967D2;\n",
       "      --hover-bg-color: #E2EBFA;\n",
       "      --hover-fill-color: #174EA6;\n",
       "      --disabled-fill-color: #AAA;\n",
       "      --disabled-bg-color: #DDD;\n",
       "  }\n",
       "\n",
       "  [theme=dark] .colab-df-quickchart {\n",
       "      --bg-color: #3B4455;\n",
       "      --fill-color: #D2E3FC;\n",
       "      --hover-bg-color: #434B5C;\n",
       "      --hover-fill-color: #FFFFFF;\n",
       "      --disabled-bg-color: #3B4455;\n",
       "      --disabled-fill-color: #666;\n",
       "  }\n",
       "\n",
       "  .colab-df-quickchart {\n",
       "    background-color: var(--bg-color);\n",
       "    border: none;\n",
       "    border-radius: 50%;\n",
       "    cursor: pointer;\n",
       "    display: none;\n",
       "    fill: var(--fill-color);\n",
       "    height: 32px;\n",
       "    padding: 0;\n",
       "    width: 32px;\n",
       "  }\n",
       "\n",
       "  .colab-df-quickchart:hover {\n",
       "    background-color: var(--hover-bg-color);\n",
       "    box-shadow: 0 1px 2px rgba(60, 64, 67, 0.3), 0 1px 3px 1px rgba(60, 64, 67, 0.15);\n",
       "    fill: var(--button-hover-fill-color);\n",
       "  }\n",
       "\n",
       "  .colab-df-quickchart-complete:disabled,\n",
       "  .colab-df-quickchart-complete:disabled:hover {\n",
       "    background-color: var(--disabled-bg-color);\n",
       "    fill: var(--disabled-fill-color);\n",
       "    box-shadow: none;\n",
       "  }\n",
       "\n",
       "  .colab-df-spinner {\n",
       "    border: 2px solid var(--fill-color);\n",
       "    border-color: transparent;\n",
       "    border-bottom-color: var(--fill-color);\n",
       "    animation:\n",
       "      spin 1s steps(1) infinite;\n",
       "  }\n",
       "\n",
       "  @keyframes spin {\n",
       "    0% {\n",
       "      border-color: transparent;\n",
       "      border-bottom-color: var(--fill-color);\n",
       "      border-left-color: var(--fill-color);\n",
       "    }\n",
       "    20% {\n",
       "      border-color: transparent;\n",
       "      border-left-color: var(--fill-color);\n",
       "      border-top-color: var(--fill-color);\n",
       "    }\n",
       "    30% {\n",
       "      border-color: transparent;\n",
       "      border-left-color: var(--fill-color);\n",
       "      border-top-color: var(--fill-color);\n",
       "      border-right-color: var(--fill-color);\n",
       "    }\n",
       "    40% {\n",
       "      border-color: transparent;\n",
       "      border-right-color: var(--fill-color);\n",
       "      border-top-color: var(--fill-color);\n",
       "    }\n",
       "    60% {\n",
       "      border-color: transparent;\n",
       "      border-right-color: var(--fill-color);\n",
       "    }\n",
       "    80% {\n",
       "      border-color: transparent;\n",
       "      border-right-color: var(--fill-color);\n",
       "      border-bottom-color: var(--fill-color);\n",
       "    }\n",
       "    90% {\n",
       "      border-color: transparent;\n",
       "      border-bottom-color: var(--fill-color);\n",
       "    }\n",
       "  }\n",
       "</style>\n",
       "\n",
       "  <script>\n",
       "    async function quickchart(key) {\n",
       "      const quickchartButtonEl =\n",
       "        document.querySelector('#' + key + ' button');\n",
       "      quickchartButtonEl.disabled = true;  // To prevent multiple clicks.\n",
       "      quickchartButtonEl.classList.add('colab-df-spinner');\n",
       "      try {\n",
       "        const charts = await google.colab.kernel.invokeFunction(\n",
       "            'suggestCharts', [key], {});\n",
       "      } catch (error) {\n",
       "        console.error('Error during call to suggestCharts:', error);\n",
       "      }\n",
       "      quickchartButtonEl.classList.remove('colab-df-spinner');\n",
       "      quickchartButtonEl.classList.add('colab-df-quickchart-complete');\n",
       "    }\n",
       "    (() => {\n",
       "      let quickchartButtonEl =\n",
       "        document.querySelector('#df-1bbf51c2-9a56-4d63-adc8-9e1093def074 button');\n",
       "      quickchartButtonEl.style.display =\n",
       "        google.colab.kernel.accessAllowed ? 'block' : 'none';\n",
       "    })();\n",
       "  </script>\n",
       "</div>\n",
       "    </div>\n",
       "  </div>\n"
      ]
     },
     "metadata": {},
     "execution_count": 29
    }
   ]
  },
  {
   "cell_type": "markdown",
   "source": [
    "# Checking For null values"
   ],
   "metadata": {
    "id": "jpFIkn_7ATfz"
   }
  },
  {
   "cell_type": "code",
   "source": [
    "data.isnull().sum()"
   ],
   "metadata": {
    "colab": {
     "base_uri": "https://localhost:8080/"
    },
    "id": "IaSa9fHWAQyI",
    "outputId": "5a706eda-35eb-4ff9-f422-e3fe46abac26"
   },
   "execution_count": 6,
   "outputs": [
    {
     "output_type": "execute_result",
     "data": {
      "text/plain": [
       "Name             0\n",
       "City             1\n",
       "Region           1\n",
       "Property Type    1\n",
       "Size(sqft)       1\n",
       "Bedrooms         1\n",
       "Bathrooms        1\n",
       "Price            1\n",
       "dtype: int64"
      ]
     },
     "metadata": {},
     "execution_count": 6
    }
   ]
  },
  {
   "cell_type": "markdown",
   "source": [
    "# I will handle the missed value now using forward fill,which will replace the NULL values with the value from the previous row."
   ],
   "metadata": {
    "id": "VeyGYSZLAiDm"
   }
  },
  {
   "cell_type": "code",
   "source": [
    "data = data.dropna()\n",
    "data.isnull().sum()"
   ],
   "metadata": {
    "colab": {
     "base_uri": "https://localhost:8080/"
    },
    "id": "tHXdOaEaAXhi",
    "outputId": "712a40af-1e19-4a10-8be9-bb8d85adac0e"
   },
   "execution_count": 30,
   "outputs": [
    {
     "output_type": "execute_result",
     "data": {
      "text/plain": [
       "Name             0\n",
       "City             0\n",
       "Region           0\n",
       "Property Type    0\n",
       "Size(sqft)       0\n",
       "Bedrooms         0\n",
       "Bathrooms        0\n",
       "Price            0\n",
       "dtype: int64"
      ]
     },
     "metadata": {},
     "execution_count": 30
    }
   ]
  },
  {
   "cell_type": "markdown",
   "source": [
    "# Showing the ratio of unique and duplicate data. From the pie chart we can see that there is huge amount of duplicate datas in the dataset."
   ],
   "metadata": {
    "id": "q87Cwsq3_3d8"
   }
  },
  {
   "cell_type": "code",
   "source": [
    "unique_count = data[~data.duplicated()].shape[0]\n",
    "duplicate_count = data[data.duplicated()].shape[0]\n",
    "\n",
    "labels = ['Unique Data', 'Duplicate Data']\n",
    "sizes = [unique_count, duplicate_count]\n",
    "colors = ['#ff9999', '#66b3ff']\n",
    "\n",
    "plt.figure(figsize=(7, 7))\n",
    "plt.pie(sizes, labels=labels, colors=colors, autopct='%1.1f%%', startangle=90)\n",
    "plt.axis('equal')\n",
    "plt.title('Ratio of Unique and Duplicate Data')\n",
    "plt.show()"
   ],
   "metadata": {
    "colab": {
     "base_uri": "https://localhost:8080/",
     "height": 604
    },
    "id": "qwEsJae-_ySR",
    "outputId": "5eba049e-9c62-445d-9ad3-ff60622b6943"
   },
   "execution_count": 31,
   "outputs": [
    {
     "output_type": "display_data",
     "data": {
      "text/plain": [
       "<Figure size 700x700 with 1 Axes>"
      ],
      "image/png": "[encoded data removed]"
     },
     "metadata": {}
    }
   ]
  },
  {
   "cell_type": "code",
   "source": [
    "# Check for duplicates in the DataFrame based on all columns\n",
    "duplicate_rows = data[data.duplicated()]\n",
    "\n",
    "# Display the duplicate rows, if any\n",
    "print(\"Duplicate Rows:\")\n",
    "print(duplicate_rows)"
   ],
   "metadata": {
    "colab": {
     "base_uri": "https://localhost:8080/"
    },
    "id": "zgOGyBFc6zgl",
    "outputId": "a785f112-7d3b-4b9c-9db6-c0b286a8f046"
   },
   "execution_count": 32,
   "outputs": [
    {
     "output_type": "stream",
     "name": "stdout",
     "text": [
      "Duplicate Rows:\n",
      "                                                     Name             City  \\\n",
      "24      In South Banasree Project A Standard 2200 Squa...         Banasree   \n",
      "25      Remarkable Flat Of 1600 Sq Ft Is Up For Rent I...      Mohammadpur   \n",
      "26      Nice 1300 Sq. Ft. Flat Is Available To Rent In...  Bashundhara R-A   \n",
      "27      Well-constructed And Nicely Planned Flat Of 12...      Mohammadpur   \n",
      "28      1500 SQ FT flat is now Vacant to rent in South...          Khulshi   \n",
      "...                                                   ...              ...   \n",
      "106379  Ready apartment 650 SQ FT is now to Rent in Se...           Mirpur   \n",
      "106380  At Rajuk Uttara Apartment Project, Check This ...           Uttara   \n",
      "106381  Cozy 800 Square Feet Apartment Is For Rent At ...           Mirpur   \n",
      "106382  A Flat With All Facilities Is Up For Rent At M...         Malibagh   \n",
      "106383  A Well Constructed 750 Sq Ft Flat Is Ready For...           Mirpur   \n",
      "\n",
      "            Region Property Type Size(sqft)  Bedrooms  Bathrooms  Price  \n",
      "24           Dhaka     Apartment      2,200         4          3  31000  \n",
      "25           Dhaka     Apartment      1,600         3          3  16000  \n",
      "26           Dhaka     Apartment      1,300         3          3  40000  \n",
      "27           Dhaka     Apartment      1,250         3          3  19000  \n",
      "28      Chattogram     Apartment      1,500         3          3  30000  \n",
      "...            ...           ...        ...       ...        ...    ...  \n",
      "106379       Dhaka     Apartment        650         2          2  13000  \n",
      "106380       Dhaka     Apartment      1,654         3          3  15000  \n",
      "106381       Dhaka     Apartment        800         2          2  13500  \n",
      "106382       Dhaka     Apartment        600         2          1  15000  \n",
      "106383       Dhaka     Apartment        750         2          2  13000  \n",
      "\n",
      "[101964 rows x 8 columns]\n"
     ]
    }
   ]
  },
  {
   "cell_type": "code",
   "source": [
    "# Remove duplicates\n",
    "data.drop_duplicates(inplace=True)"
   ],
   "metadata": {
    "id": "bEnK6qtZ7OwO"
   },
   "execution_count": 33,
   "outputs": []
  },
  {
   "cell_type": "code",
   "source": [
    "Region_type = data['Region'].value_counts()\n",
    "Region_type"
   ],
   "metadata": {
    "colab": {
     "base_uri": "https://localhost:8080/"
    },
    "id": "eKp9bS-UDW3B",
    "outputId": "3b7b4b87-60c3-4a6c-e28d-da466d36ccf3"
   },
   "execution_count": 34,
   "outputs": [
    {
     "output_type": "execute_result",
     "data": {
      "text/plain": [
       "Dhaka         3682\n",
       "Chattogram     738\n",
       "Name: Region, dtype: int64"
      ]
     },
     "metadata": {},
     "execution_count": 34
    }
   ]
  },
  {
   "cell_type": "code",
   "source": [
    "data['Region'] = pd.to_numeric(data['Region'], errors='coerce')\n",
    "\n",
    "data = data[data['Region'] != 1600]\n",
    "\n",
    "Region_type = data['Region'].value_counts()\n",
    "print(Region_type)"
   ],
   "metadata": {
    "colab": {
     "base_uri": "https://localhost:8080/"
    },
    "id": "4i_KtGV1D2H9",
    "outputId": "7b230577-614f-414d-8c63-fa52c6283426"
   },
   "execution_count": null,
   "outputs": [
    {
     "output_type": "stream",
     "name": "stdout",
     "text": [
      "Series([], Name: Region, dtype: int64)\n"
     ]
    }
   ]
  },
  {
   "cell_type": "code",
   "source": [
    "Region_type = data['Region'].value_counts()\n",
    "Region_type"
   ],
   "metadata": {
    "colab": {
     "base_uri": "https://localhost:8080/"
    },
    "id": "fTgbHKNMD6Oi",
    "outputId": "4ffcde8d-f5fe-4b9f-b480-e76b0df2d6d3"
   },
   "execution_count": 35,
   "outputs": [
    {
     "output_type": "execute_result",
     "data": {
      "text/plain": [
       "Dhaka         3682\n",
       "Chattogram     738\n",
       "Name: Region, dtype: int64"
      ]
     },
     "metadata": {},
     "execution_count": 35
    }
   ]
  },
  {
   "cell_type": "code",
   "source": [
    "Property_type = data['Property Type'].value_counts()\n",
    "Property_type"
   ],
   "metadata": {
    "colab": {
     "base_uri": "https://localhost:8080/"
    },
    "id": "Yql-PFxTMt0z",
    "outputId": "0d653157-cae1-4a52-f85b-96bc9ea5c8ab"
   },
   "execution_count": 36,
   "outputs": [
    {
     "output_type": "execute_result",
     "data": {
      "text/plain": [
       "Apartment    4376\n",
       "Residence      44\n",
       "Name: Property Type, dtype: int64"
      ]
     },
     "metadata": {},
     "execution_count": 36
    }
   ]
  },
  {
   "cell_type": "code",
   "source": [
    "City_name = data['City'].value_counts()\n",
    "City_name"
   ],
   "metadata": {
    "colab": {
     "base_uri": "https://localhost:8080/"
    },
    "id": "AqnRujsc8-8a",
    "outputId": "107e47eb-e0a2-4616-ae03-4bf81f6722e9"
   },
   "execution_count": 37,
   "outputs": [
    {
     "output_type": "execute_result",
     "data": {
      "text/plain": [
       "Mirpur                    394\n",
       "Mohammadpur               356\n",
       "Uttara                    355\n",
       "Bashundhara R-A           338\n",
       "Gulshan                   240\n",
       "                         ... \n",
       "Nasirabad                   1\n",
       "32 No. Andarkilla Ward      1\n",
       "Savar                       1\n",
       "Ibrahimpur                  1\n",
       "Shyampur                    1\n",
       "Name: City, Length: 88, dtype: int64"
      ]
     },
     "metadata": {},
     "execution_count": 37
    }
   ]
  },
  {
   "cell_type": "markdown",
   "source": [
    "# From here, we can see that in dhaka more than 90% houses are available for rent and a small portion of the houses are from Chittagong"
   ],
   "metadata": {
    "id": "WeDV0pp6Ir7E"
   }
  },
  {
   "cell_type": "code",
   "source": [
    "# Assuming 'type' is the column you want to visualize\n",
    "sns.countplot(x='Region', data=data)\n",
    "\n",
    "# Calculate the percentage and add it to the plot\n",
    "Region_type = data['Region'].value_counts(normalize=True) * 100\n",
    "for i in range(Region_type.shape[0]):\n",
    "    num = Region_type.values[i]\n",
    "    text = \"{:0.2f}%\".format(num)\n",
    "    plt.text(i, num+100, text, ha=\"center\", color=\"k\", fontsize=14)\n",
    "\n",
    "plt.show()"
   ],
   "metadata": {
    "colab": {
     "base_uri": "https://localhost:8080/",
     "height": 696
    },
    "id": "Wyw4foBpH3_G",
    "outputId": "85f86f50-c8d3-4b4d-c0f3-d3506af105e3"
   },
   "execution_count": 38,
   "outputs": [
    {
     "output_type": "display_data",
     "data": {
      "text/plain": [
       "<Figure size 900x800 with 1 Axes>"
      ],
      "image/png": "[encoded data removed]"
     },
     "metadata": {}
    }
   ]
  },
  {
   "cell_type": "markdown",
   "source": [
    "# Data Transformation and creating a new size catagory column"
   ],
   "metadata": {
    "id": "Z7fxOjpPD2Yb"
   }
  },
  {
   "cell_type": "code",
   "source": [
    "import re\n",
    "\n",
    "# Remove commas from 'Size(sqft)' values\n",
    "data['Size(sqft)'] = data['Size(sqft)'].str.replace(',', '')\n",
    "\n",
    "# Convert 'Size(sqft)' column to integers\n",
    "data['Size(sqft)'] = data['Size(sqft)'].astype(int)\n",
    "\n",
    "# Define size ranges\n",
    "size_bins = [0, 500, 1000, 1500, 2000, 2500, 3000, 3500, 4000]\n",
    "size_bins = [int(bin) for bin in size_bins]\n",
    "size_labels = ['0-500', '501-1000', '1001-1500', '1501-2000', '2001-2500', '2501-3000', '3001-3500', '3501-4000']\n",
    "\n",
    "# Create a new column 'Size_Category' with size ranges\n",
    "data['Size_Category'] = pd.cut(data['Size(sqft)'], bins=size_bins, labels=size_labels)"
   ],
   "metadata": {
    "id": "OAutnp0LDxsM"
   },
   "execution_count": 39,
   "outputs": []
  },
  {
   "cell_type": "markdown",
   "source": [
    "# Visualize Relationship between Price and Size Categories"
   ],
   "metadata": {
    "id": "_eNtvng7JvtI"
   }
  },
  {
   "cell_type": "code",
   "source": [
    "sns.scatterplot(x='Size_Category', y='Price', data=data)\n",
    "plt.title(\"Relationship Between Property Price and Size Ranges\")\n",
    "plt.xlabel(\"Size Range\")\n",
    "plt.ylabel(\"Price\")\n",
    "plt.xticks(rotation=45)\n",
    "plt.show()"
   ],
   "metadata": {
    "colab": {
     "base_uri": "https://localhost:8080/",
     "height": 767
    },
    "id": "SfaN2s7dJxUI",
    "outputId": "ac6b9ef3-a5f1-40c0-c31a-ef4ee5479eb1"
   },
   "execution_count": 40,
   "outputs": [
    {
     "output_type": "display_data",
     "data": {
      "text/plain": [
       "<Figure size 900x800 with 1 Axes>"
      ],
      "image/png": "[encoded data removed]"
     },
     "metadata": {}
    }
   ]
  },
  {
   "cell_type": "markdown",
   "source": [
    "# Analyze the relationship between property price and number of bedrooms"
   ],
   "metadata": {
    "id": "7Odpd7PdEzxk"
   }
  },
  {
   "cell_type": "code",
   "source": [
    "sns.scatterplot(x = \"Bedrooms\", y = \"Price\", data = data)\n",
    "plt.title(\"Relationship Between Property Price and Number of Bedrooms\")\n",
    "plt.xlabel(\"Bedrooms\")\n",
    "plt.ylabel(\"Price\")\n",
    "plt.show()"
   ],
   "metadata": {
    "colab": {
     "base_uri": "https://localhost:8080/",
     "height": 718
    },
    "id": "8uWgxrtSE1Rx",
    "outputId": "cf31958d-a10b-4269-fa2e-8a840d837116"
   },
   "execution_count": 41,
   "outputs": [
    {
     "output_type": "display_data",
     "data": {
      "text/plain": [
       "<Figure size 900x800 with 1 Axes>"
      ],
      "image/png": "[encoded data removed]"
     },
     "metadata": {}
    }
   ]
  },
  {
   "cell_type": "markdown",
   "source": [
    "# Analyze the relationship between property price and number of bathrooms"
   ],
   "metadata": {
    "id": "98WRGzG5FDoT"
   }
  },
  {
   "cell_type": "code",
   "source": [
    "sns.scatterplot(x = \"Bathrooms\", y = \"Price\", data = data)\n",
    "plt.title(\"Relationship Between Property Price and Number of Bathrooms\")\n",
    "plt.xlabel(\"Bathrooms\")\n",
    "plt.ylabel(\"Price\")\n",
    "plt.show()"
   ],
   "metadata": {
    "colab": {
     "base_uri": "https://localhost:8080/",
     "height": 718
    },
    "id": "0aiq9McuFDft",
    "outputId": "e9c7f14f-6f52-4b0d-aa51-f3eb589d6f1b"
   },
   "execution_count": 42,
   "outputs": [
    {
     "output_type": "display_data",
     "data": {
      "text/plain": [
       "<Figure size 900x800 with 1 Axes>"
      ],
      "image/png": "[encoded data removed]"
     },
     "metadata": {}
    }
   ]
  },
  {
   "cell_type": "markdown",
   "source": [
    "# Let's Compare price between Dhaka and Chittagong region"
   ],
   "metadata": {
    "id": "U0QEMgq7KJ4E"
   }
  },
  {
   "cell_type": "code",
   "source": [
    "plt.rcParams['figure.figsize'] = (9,8)\n",
    "sns.catplot(x = \"Property Type\", y = \"Price\", col = \"Region\", hue = \"Property Type\",\n",
    "            data = data, kind = \"bar\")\n",
    "plt.suptitle(\"Dhaka vs Chittagong Price\")\n",
    "plt.tight_layout()\n",
    "plt.show()"
   ],
   "metadata": {
    "colab": {
     "base_uri": "https://localhost:8080/",
     "height": 512
    },
    "id": "iAZgfGPBIh8s",
    "outputId": "43a4bd7c-4534-4782-aab8-fe7f7bc9c069"
   },
   "execution_count": 43,
   "outputs": [
    {
     "output_type": "display_data",
     "data": {
      "text/plain": [
       "<Figure size 1000x500 with 2 Axes>"
      ],
      "image/png": "[encoded data removed]"
     },
     "metadata": {}
    }
   ]
  },
  {
   "cell_type": "markdown",
   "source": [
    "# The graph shows the average price of apartments and residences in Dhaka and Chittagong regions. We can see that the average price difference between Dhaka and Chittagong is very high. Dhaka is way more expensive than Chittagong."
   ],
   "metadata": {
    "id": "Hf0CNxyDN2TJ"
   }
  },
  {
   "cell_type": "code",
   "source": [
    "data.to_csv('cleaned_data_property_details_11_24_2023.csv', index=False)"
   ],
   "metadata": {
    "id": "lF0rsRsfKPV2"
   },
   "execution_count": 44,
   "outputs": []
  }
 ]
}
